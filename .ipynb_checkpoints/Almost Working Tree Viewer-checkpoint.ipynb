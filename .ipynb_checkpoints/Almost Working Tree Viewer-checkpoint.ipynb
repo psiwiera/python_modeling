{
 "metadata": {
  "name": "",
  "signature": "sha256:eca77ff5655d96e84b1904f0b54a11019e42ca5ed994f7cda1eb8f8d964c0110"
 },
 "nbformat": 3,
 "nbformat_minor": 0,
 "worksheets": []
}