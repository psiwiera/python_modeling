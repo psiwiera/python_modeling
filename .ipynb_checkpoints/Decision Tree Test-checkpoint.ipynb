{
 "metadata": {
  "name": "",
  "signature": "sha256:06cc149908198af68766dda66a19586d403f13bd7d8bd5e13a07e5400a01db61"
 },
 "nbformat": 3,
 "nbformat_minor": 0,
 "worksheets": [
  {
   "cells": [
    {
     "cell_type": "code",
     "collapsed": false,
     "input": [
      "import pandas as pd\n",
      "file_name = 'german_credit_car_fraud.ssv'\n",
      "INPUT_DIR = 'data/'\n",
      "data = pd.read_csv(INPUT_DIR + file_name,\n",
      "\t\t\tsep = ' ', \n",
      "\t\t\theader = 0)"
     ],
     "language": "python",
     "metadata": {},
     "outputs": [],
     "prompt_number": 33
    },
    {
     "cell_type": "code",
     "collapsed": false,
     "input": [
      "import data_preprocessing_functions as ppfuncs\n",
      "data = ppfuncs.modifyClassVariable(data)\n",
      "data = ppfuncs.mapNewVar(data)\n",
      "data = ppfuncs.removeFields(data)\n",
      "np_data = ppfuncs.convertToNumpy(data)"
     ],
     "language": "python",
     "metadata": {},
     "outputs": [],
     "prompt_number": 34
    },
    {
     "cell_type": "code",
     "collapsed": false,
     "input": [
      "import model_building_functions as modfuncs\n",
      "from sklearn import tree\n",
      "X = np_data[0:, :-1]\n",
      "y = np_data[0:,7]\n",
      "modelLogReg = modfuncs.logReg(X,y)\n",
      "modelDecTree = modfuncs.decTree(X,y)\n",
      "\n",
      "from graphviz import Graph\n",
      "from sklearn.externals.six import StringIO  \n",
      "import pydot\n",
      "import pyparser\n",
      "dot_data = StringIO() \n",
      "tree.export_graphviz(modelDecTree, out_file=dot_data)\n",
      "#print (dot_data.getvalue())\n",
      "#pydot.graph_from_dot_data(dot_data.getvalue()).write_pdf(\"somefile.pdf\")\n",
      "graph = pydot.graph_from_dot_data(dot_data.getvalue()) \n",
      "#graph.write_pdf(\"iris.pdf\") "
     ],
     "language": "python",
     "metadata": {},
     "outputs": [
      {
       "output_type": "stream",
       "stream": "stdout",
       "text": [
        "Logistic Regression Model Results --------------------------\n",
        "Model coefficients: \n",
        "[[  2.45967117e-02   6.74222097e-05   1.74154874e-01   1.67888731e-02\n",
        "   -2.35564166e-02  -2.71915869e-01  -5.45125356e-02]]\n",
        "Model intercept: \n",
        "[-0.90738617]\n",
        "Decision Tree Model Results --------------------------------\n",
        "Feature importances: \n",
        "[ 0.12276593  0.42452424  0.08543156  0.05525542  0.24646706  0.03934208\n",
        "  0.0262137 ]\n"
       ]
      },
      {
       "ename": "NameError",
       "evalue": "name 'graph_from_dot_data' is not defined",
       "output_type": "pyerr",
       "traceback": [
        "\u001b[0;31m---------------------------------------------------------------------------\u001b[0m\n\u001b[0;31mNameError\u001b[0m                                 Traceback (most recent call last)",
        "\u001b[0;32m<ipython-input-35-146da56aa71b>\u001b[0m in \u001b[0;36m<module>\u001b[0;34m()\u001b[0m\n\u001b[1;32m     14\u001b[0m \u001b[0;31m#print (dot_data.getvalue())\u001b[0m\u001b[0;34m\u001b[0m\u001b[0;34m\u001b[0m\u001b[0m\n\u001b[1;32m     15\u001b[0m \u001b[0;31m#pydot.graph_from_dot_data(dot_data.getvalue()).write_pdf(\"somefile.pdf\")\u001b[0m\u001b[0;34m\u001b[0m\u001b[0;34m\u001b[0m\u001b[0m\n\u001b[0;32m---> 16\u001b[0;31m \u001b[0mgraph\u001b[0m \u001b[0;34m=\u001b[0m \u001b[0mgraph_from_dot_data\u001b[0m\u001b[0;34m(\u001b[0m\u001b[0mdot_data\u001b[0m\u001b[0;34m.\u001b[0m\u001b[0mgetvalue\u001b[0m\u001b[0;34m(\u001b[0m\u001b[0;34m)\u001b[0m\u001b[0;34m)\u001b[0m\u001b[0;34m\u001b[0m\u001b[0m\n\u001b[0m\u001b[1;32m     17\u001b[0m \u001b[0;31m#graph.write_pdf(\"iris.pdf\")\u001b[0m\u001b[0;34m\u001b[0m\u001b[0;34m\u001b[0m\u001b[0m\n",
        "\u001b[0;31mNameError\u001b[0m: name 'graph_from_dot_data' is not defined"
       ]
      }
     ],
     "prompt_number": 35
    },
    {
     "cell_type": "code",
     "collapsed": false,
     "input": [
      "%which python"
     ],
     "language": "python",
     "metadata": {},
     "outputs": []
    },
    {
     "cell_type": "code",
     "collapsed": false,
     "input": [
      "which python"
     ],
     "language": "python",
     "metadata": {},
     "outputs": []
    },
    {
     "cell_type": "code",
     "collapsed": false,
     "input": [],
     "language": "python",
     "metadata": {},
     "outputs": []
    },
    {
     "cell_type": "code",
     "collapsed": false,
     "input": [],
     "language": "python",
     "metadata": {},
     "outputs": []
    },
    {
     "cell_type": "code",
     "collapsed": false,
     "input": [
      "%matplotlib inline\n",
      "import matplotlib.pyplot as plt\n",
      "data['duration'].plot(kind='hist', bins=20)"
     ],
     "language": "python",
     "metadata": {},
     "outputs": []
    }
   ],
   "metadata": {}
  }
 ]
}